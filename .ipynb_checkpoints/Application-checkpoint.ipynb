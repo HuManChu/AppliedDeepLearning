{
 "cells": [
  {
   "cell_type": "code",
   "execution_count": 6,
   "metadata": {},
   "outputs": [],
   "source": [
    "from tkinter import *\n",
    "from PIL import Image\n",
    "\n",
    "good_smiley = Image.open(\"good.jpg\")\n",
    "bad_smiley = Image.open(\"bad.jpeg\")\n",
    " \n",
    "window = Tk()\n",
    " \n",
    "window.title(\"Sentiment Classifier\")\n",
    " \n",
    "window.geometry('350x200')\n",
    " \n",
    "lbl = Label(window, text=\"Hello\")\n",
    " \n",
    "lbl.grid(column=0, row=0)\n",
    " \n",
    "txt = Entry(window,width=10)\n",
    " \n",
    "txt.grid(column=1, row=0)\n",
    " \n",
    "def clicked():\n",
    " \n",
    "    res = \"Welcome to \" + txt.get()\n",
    " \n",
    "    lbl.configure(text= res)\n",
    " \n",
    "btn = Button(window, text=\"Click Me\", command=clicked)\n",
    " \n",
    "btn.grid(column=2, row=0)\n",
    " \n",
    "window.mainloop()"
   ]
  },
  {
   "cell_type": "code",
   "execution_count": 10,
   "metadata": {},
   "outputs": [],
   "source": [
    "from tkinter import *\n",
    " \n",
    "from tkinter.ttk import Progressbar\n",
    " \n",
    "from tkinter import ttk\n",
    " \n",
    "window = Tk()\n",
    " \n",
    "window.title(\"Sentiment Classifier\")\n",
    " \n",
    "window.geometry('350x200')\n",
    " \n",
    "style = ttk.Style()\n",
    " \n",
    "style.theme_use('default')\n",
    " \n",
    "style.configure(\"black.Horizontal.TProgressbar\", background='black')\n",
    " \n",
    "bar = Progressbar(window, length=200, style='black.Horizontal.TProgressbar')\n",
    " \n",
    "bar['value'] = 70\n",
    " \n",
    "bar.grid(column=0, row=0)\n",
    " \n",
    "window.mainloop()"
   ]
  },
  {
   "cell_type": "code",
   "execution_count": 7,
   "metadata": {},
   "outputs": [],
   "source": [
    "# import ImageTk\n",
    "import tkinter as tk\n",
    "from tkinter import *\n",
    "from PIL import Image, ImageTk\n",
    "\n",
    "\n",
    "def make_label(master, x, y, w, h, img, *args, **kwargs):\n",
    "    f = Frame(master, height = h, width = w)\n",
    "#     f.pack_propagate(0) \n",
    "    f.place(x = x, y = y)\n",
    "    label = Label(f, image = img, *args, **kwargs)\n",
    "    label.pack(fill = BOTH, expand = 1)\n",
    "    return label\n",
    "\n",
    "\n",
    "if __name__ == '__main__':\n",
    "#     root = tk.Tk()\n",
    "    root = tk.Toplevel()\n",
    "    frame = tk.Frame(root, width=400, height=600, background='white')\n",
    "#     frame.pack_propagate(0)\n",
    "    frame.pack()\n",
    "    img = ImageTk.PhotoImage(Image.open('good.jpg'))\n",
    "    make_label(root, 0, 0, 400, 100, img)\n",
    "    root.mainloop()"
   ]
  },
  {
   "cell_type": "code",
   "execution_count": 1,
   "metadata": {},
   "outputs": [
    {
     "data": {
      "text/html": [],
      "text/plain": [
       "<IPython.core.display.HTML object>"
      ]
     },
     "metadata": {},
     "output_type": "display_data"
    },
    {
     "data": {
      "text/html": [],
      "text/plain": [
       "<IPython.core.display.HTML object>"
      ]
     },
     "metadata": {},
     "output_type": "display_data"
    },
    {
     "data": {
      "text/html": [],
      "text/plain": [
       "<IPython.core.display.HTML object>"
      ]
     },
     "metadata": {},
     "output_type": "display_data"
    }
   ],
   "source": [
    "import tkinter\n",
    "from tkinter import messagebox\n",
    "\n",
    "import numpy as np\n",
    "import pandas as pd\n",
    "from pathlib import Path \n",
    "import random \n",
    "import os\n",
    "from functools import partial\n",
    "\n",
    "#pytorch:\n",
    "import torch\n",
    "import torch.optim as optim\n",
    "\n",
    "#fastai:\n",
    "from fastai import *\n",
    "from fastai.text import *\n",
    "from fastai.callbacks import *\n",
    "\n",
    "#transformers:\n",
    "from transformers import PreTrainedModel, PreTrainedTokenizer, PretrainedConfig\n",
    "from transformers import RobertaForSequenceClassification, RobertaTokenizer, RobertaConfig\n",
    "from transformers import AdamW\n",
    "\n",
    "\n",
    "import utils_sentiment_clf\n",
    "from TransformersVocab import TransformersVocab\n",
    "from TransformersBaseTokenizer import TransformersBaseTokenizer\n",
    "from Sentiment_Classifier import Sentiment_Classifier\n",
    "\n",
    "class SentitmentClassfierApp:\n",
    "    def __init__(self):\n",
    "        #create root window\n",
    "        self.root = tkinter.Tk()\n",
    "        self.root.title(\"Sentiment Classifier\")\n",
    "        self.root.geometry('1000x50')\n",
    "        #Create two frames\n",
    "        #One frame for the top of the window\n",
    "        #Another frame for bottom of the window\n",
    "        self.top_frame = tkinter.Frame(self.root)\n",
    "        self.bottom_frame = tkinter.Frame(self.root)\n",
    "        #Create two labels\n",
    "        self.prompt_label = tkinter.Label(self.top_frame, text = 'Enter to classify sentence (english only):')\n",
    "        self.entry = tkinter.Entry(self.top_frame, width = 500)\n",
    "        #Pack top frame widgets\n",
    "        self.prompt_label.pack(side = 'left')\n",
    "        self.entry.pack(side = 'left')\n",
    "        #Create the button widgets\n",
    "        self.calc_button = tkinter.Button(self.bottom_frame, text = 'Sentiment', command = self.get_sentiment)\n",
    "        #root.destroy exits/destroys the main window\n",
    "        self.quit_button = tkinter.Button(self.bottom_frame, text = 'Quit', command = self.root.destroy)\n",
    "        #Pack the buttons\n",
    "        self.calc_button.pack(side = 'left')\n",
    "        self.quit_button.pack(side = 'left')\n",
    "        \n",
    "        #Now pack the frames also\n",
    "        self.top_frame.pack()\n",
    "        self.bottom_frame.pack()\n",
    "        \n",
    "        \n",
    "        #Load and prepare Model for prediction:\n",
    "        train = pd.read_json(\"train_for_pred.json\")\n",
    "        test = pd.read_json(\"test_for_pred.json\")\n",
    "        \n",
    "        seed = 1234\n",
    "        batch_size = 8\n",
    "\n",
    "        pretrained_model_name = 'roberta-base'\n",
    "        model_class = RobertaForSequenceClassification\n",
    "        tokenizer_class = RobertaTokenizer\n",
    "        config_class = RobertaConfig\n",
    "\n",
    "\n",
    "        config = config_class.from_pretrained(pretrained_model_name)\n",
    "        config.num_labels = 2\n",
    "        utils_sentiment_clf.seed_all(seed)\n",
    "        \n",
    "        transformer_tokenizer = tokenizer_class.from_pretrained(pretrained_model_name)\n",
    "        transformer_base_tokenizer = TransformersBaseTokenizer(pretrained_tokenizer = transformer_tokenizer, model_type = model_type)\n",
    "        fastai_tokenizer = Tokenizer(tok_func = transformer_base_tokenizer, pre_rules=[], post_rules=[])\n",
    "\n",
    "        transformer_vocab =  TransformersVocab(tokenizer = transformer_tokenizer)\n",
    "        numericalize_processor = NumericalizeProcessor(vocab=transformer_vocab)\n",
    "        tokenize_processor = TokenizeProcessor(tokenizer=fastai_tokenizer, include_bos=False, include_eos=False)\n",
    "        transformer_processor = [tokenize_processor, numericalize_processor]\n",
    "        \n",
    "        \n",
    "        databunch = (TextList.from_df(train, cols='text', processor=transformer_processor)\n",
    "                             .split_by_rand_pct(0.1,seed=seed)\n",
    "                             .label_from_df(cols= 'label')\n",
    "                             .add_test(test)\n",
    "                             .databunch(bs=batch_size, pad_first=False, pad_idx=transformer_tokenizer.pad_token_id,device=torch.device('cuda')))\n",
    "        \n",
    "        transformer_model = model_class.from_pretrained(pretrained_model_name, config = config)\n",
    "        sentiment_transformer = Sentiment_Classifier(transformer_model = transformer_model)\n",
    "        \n",
    "        optimizer = partial(AdamW, correct_bias=False)\n",
    "\n",
    "        self.learner = Learner(databunch, \n",
    "                          sentiment_transformer, \n",
    "                          opt_func = optimizer, \n",
    "                          metrics=[accuracy])\n",
    "\n",
    "        # Set a callback to show the loss development after each training epoch\n",
    "#         self.learner.callbacks.append(ShowGraph(learner))\n",
    "        self.learner.load(\"model_after_two_epochs\")\n",
    "        \n",
    "    \n",
    "        tkinter.mainloop()\n",
    "        #This method converts kilometers into miles\n",
    "    def get_sentiment(self):\n",
    "        sentiment = self.learner.predict(self.entry.get())\n",
    "        if int(sentiment[0]) == 0:\n",
    "            messagebox.showinfo('Result:','Negative sentiment')\n",
    "        else:\n",
    "            messagebox.showinfo('Result:','Positive sentiment')\n",
    "gui = SentitmentClassfierApp()   "
   ]
  },
  {
   "cell_type": "code",
   "execution_count": 2,
   "metadata": {},
   "outputs": [
    {
     "data": {
      "text/html": [],
      "text/plain": [
       "<IPython.core.display.HTML object>"
      ]
     },
     "metadata": {},
     "output_type": "display_data"
    },
    {
     "data": {
      "text/html": [],
      "text/plain": [
       "<IPython.core.display.HTML object>"
      ]
     },
     "metadata": {},
     "output_type": "display_data"
    }
   ],
   "source": [
    "import tkinter\n",
    "from tkinter import messagebox\n",
    "\n",
    "\n",
    "import numpy as np\n",
    "import pandas as pd\n",
    "from pathlib import Path \n",
    "import random \n",
    "import os\n",
    "from functools import partial\n",
    "\n",
    "#pytorch:\n",
    "import torch\n",
    "import torch.optim as optim\n",
    "\n",
    "#fastai:\n",
    "from fastai import *\n",
    "from fastai.text import *\n",
    "from fastai.callbacks import *\n",
    "\n",
    "#transformers:\n",
    "from transformers import PreTrainedModel, PreTrainedTokenizer, PretrainedConfig\n",
    "from transformers import RobertaForSequenceClassification, RobertaTokenizer, RobertaConfig\n",
    "from transformers import AdamW\n",
    "\n",
    "\n",
    "import utils_sentiment_clf\n",
    "from TransformersVocab import TransformersVocab\n",
    "from TransformersBaseTokenizer import TransformersBaseTokenizer\n",
    "from Sentiment_Classifier import Sentiment_Classifier\n",
    "\n",
    "class SentitmentClassfierApp:\n",
    "    def __init__(self):\n",
    "        #create root window\n",
    "        self.root = tkinter.Tk()\n",
    "        self.root.title(\"Sentiment Classifier\")\n",
    "        self.root.geometry('1000x50')\n",
    "        #Create two frames\n",
    "        #One frame for the top of the window\n",
    "        #Another frame for bottom of the window\n",
    "        self.top_frame = tkinter.Frame(self.root)\n",
    "        self.bottom_frame = tkinter.Frame(self.root)\n",
    "        #Create two labels\n",
    "        self.prompt_label = tkinter.Label(self.top_frame, text = 'Enter to classify sentence (english only):')\n",
    "        self.entry = tkinter.Entry(self.top_frame, width = 500)\n",
    "        #Pack top frame widgets\n",
    "        self.prompt_label.pack(side = 'left')\n",
    "        self.entry.pack(side = 'left')\n",
    "        #Create the button widgets\n",
    "        self.calc_button = tkinter.Button(self.bottom_frame, text = 'Sentiment', command = self.get_sentiment)\n",
    "        #root.destroy exits/destroys the main window\n",
    "        self.quit_button = tkinter.Button(self.bottom_frame, text = 'Quit', command = self.root.destroy)\n",
    "        #Pack the buttons\n",
    "        self.calc_button.pack(side = 'left')\n",
    "        self.quit_button.pack(side = 'left')\n",
    "        \n",
    "        #Now pack the frames also\n",
    "        self.top_frame.pack()\n",
    "        self.bottom_frame.pack()\n",
    "        \n",
    "        \n",
    "        #Load and prepare Model for prediction:\n",
    "        train = pd.read_json(\"train_for_pred.json\")\n",
    "        \n",
    "        seed = 1234\n",
    "        batch_size = 8\n",
    "\n",
    "        pretrained_model_name = 'roberta-base'\n",
    "        model_class = RobertaForSequenceClassification\n",
    "        tokenizer_class = RobertaTokenizer\n",
    "        config_class = RobertaConfig\n",
    "\n",
    "\n",
    "        config = config_class.from_pretrained(pretrained_model_name)\n",
    "        config.num_labels = 2\n",
    "        utils_sentiment_clf.seed_all(seed)\n",
    "        \n",
    "        transformer_tokenizer = tokenizer_class.from_pretrained(pretrained_model_name)\n",
    "        transformer_base_tokenizer = TransformersBaseTokenizer(pretrained_tokenizer = transformer_tokenizer, model_type = model_type)\n",
    "        fastai_tokenizer = Tokenizer(tok_func = transformer_base_tokenizer, pre_rules=[], post_rules=[])\n",
    "\n",
    "        transformer_vocab =  TransformersVocab(tokenizer = transformer_tokenizer)\n",
    "        numericalize_processor = NumericalizeProcessor(vocab=transformer_vocab)\n",
    "        tokenize_processor = TokenizeProcessor(tokenizer=fastai_tokenizer, include_bos=False, include_eos=False)\n",
    "        transformer_processor = [tokenize_processor, numericalize_processor]\n",
    "        \n",
    "        \n",
    "        databunch = (TextList.from_df(train, cols='text', processor=transformer_processor)\n",
    "                             .split_by_rand_pct(0.1,seed=seed)\n",
    "                             .label_from_df(cols= 'label')\n",
    "                             .databunch(bs=batch_size, pad_first=False, pad_idx=transformer_tokenizer.pad_token_id,device=torch.device('cuda')))\n",
    "        \n",
    "        transformer_model = model_class.from_pretrained(pretrained_model_name, config = config)\n",
    "        sentiment_transformer = Sentiment_Classifier(transformer_model = transformer_model)\n",
    "        \n",
    "        optimizer = partial(AdamW, correct_bias=False)\n",
    "\n",
    "        self.learner = Learner(databunch, \n",
    "                          sentiment_transformer, \n",
    "                          opt_func = optimizer, \n",
    "                          metrics=[accuracy])\n",
    "\n",
    "        # Set a callback to show the loss development after each training epoch\n",
    "#         self.learner.callbacks.append(ShowGraph(learner))\n",
    "        self.learner.load(\"model_after_two_epochs\")\n",
    "        \n",
    "    \n",
    "        tkinter.mainloop()\n",
    "        #This method converts kilometers into miles\n",
    "    def get_sentiment(self):\n",
    "        sentiment = self.learner.predict(self.entry.get())\n",
    "        if int(sentiment[0]) == 0:\n",
    "            messagebox.showinfo('Result:','Negative sentiment')\n",
    "        else:\n",
    "            messagebox.showinfo('Result:','Positive sentiment')\n",
    "gui = SentitmentClassfierApp()   "
   ]
  },
  {
   "cell_type": "code",
   "execution_count": 1,
   "metadata": {},
   "outputs": [
    {
     "data": {
      "text/html": [],
      "text/plain": [
       "<IPython.core.display.HTML object>"
      ]
     },
     "metadata": {},
     "output_type": "display_data"
    },
    {
     "data": {
      "text/html": [],
      "text/plain": [
       "<IPython.core.display.HTML object>"
      ]
     },
     "metadata": {},
     "output_type": "display_data"
    }
   ],
   "source": [
    "#tkinter for GUI:\n",
    "import tkinter\n",
    "from tkinter import messagebox\n",
    "\n",
    "#fastai for AI:\n",
    "import fastai\n",
    "from fastai import *\n",
    "#fastai:\n",
    "from fastai import *\n",
    "from fastai.text import *\n",
    "from fastai.callbacks import *\n",
    "\n",
    "\n",
    "class SentitmentClassfierApp:\n",
    "    def __init__(self):\n",
    "        #create root window\n",
    "        self.root = tkinter.Tk()\n",
    "        self.root.title(\"Sentiment Classifier\")\n",
    "        self.root.geometry('1000x50')\n",
    "        #Create two frames\n",
    "        #One frame for the top of the window\n",
    "        #Another frame for bottom of the window\n",
    "        self.top_frame = tkinter.Frame(self.root)\n",
    "        self.bottom_frame = tkinter.Frame(self.root)\n",
    "        #Create two labels\n",
    "        self.prompt_label = tkinter.Label(self.top_frame, text = 'Enter to classify sentence (english only):')\n",
    "        self.entry = tkinter.Entry(self.top_frame, width = 500)\n",
    "        #Pack top frame widgets\n",
    "        self.prompt_label.pack(side = 'left')\n",
    "        self.entry.pack(side = 'left')\n",
    "        #Create the button widgets\n",
    "        self.calc_button = tkinter.Button(self.bottom_frame, text = 'Sentiment', command = self.get_sentiment)\n",
    "        #root.destroy exits/destroys the main window\n",
    "        self.quit_button = tkinter.Button(self.bottom_frame, text = 'Quit', command = self.root.destroy)\n",
    "        #Pack the buttons\n",
    "        self.calc_button.pack(side = 'left')\n",
    "        self.quit_button.pack(side = 'left')\n",
    "        \n",
    "        #Now pack the frames also\n",
    "        self.top_frame.pack()\n",
    "        self.bottom_frame.pack()\n",
    "        \n",
    "        \n",
    "        #Load trained Roberta Model:\n",
    "        fastai.torch_core.defaults.device = 'cpu'\n",
    "        self.learner = load_learner(path=\"./\")\n",
    "        \n",
    "        \n",
    "    \n",
    "        tkinter.mainloop()\n",
    "\n",
    "    #This method predicts the sentiment of the example text:\n",
    "    def get_sentiment(self):\n",
    "        sentiment = self.learner.predict(self.entry.get())\n",
    "        if int(sentiment[0]) == 0:\n",
    "            messagebox.showinfo('Result:','Negative sentiment')\n",
    "        elif int(sentiment[0]) == 1:\n",
    "            messagebox.showinfo('Result:','Positive sentiment')\n",
    "        else:\n",
    "            messagebox.showinfo('Result:','Unclear')\n",
    "gui = SentitmentClassfierApp()   "
   ]
  },
  {
   "cell_type": "code",
   "execution_count": 1,
   "metadata": {},
   "outputs": [
    {
     "name": "stderr",
     "output_type": "stream",
     "text": [
      "Usage: ipykernel_launcher.py [OPTIONS] COMMAND [ARGS]...\n",
      "Try \"ipykernel_launcher.py --help\" for help.\n",
      "\n",
      "Error: no such option: -f\n"
     ]
    },
    {
     "ename": "SystemExit",
     "evalue": "2",
     "output_type": "error",
     "traceback": [
      "An exception has occurred, use %tb to see the full traceback.\n",
      "\u001b[0;31mSystemExit\u001b[0m\u001b[0;31m:\u001b[0m 2\n"
     ]
    },
    {
     "name": "stderr",
     "output_type": "stream",
     "text": [
      "/home/humanchu/anaconda3/envs/transformers/lib/python3.7/site-packages/IPython/core/interactiveshell.py:3327: UserWarning: To exit: use 'exit', 'quit', or Ctrl-D.\n",
      "  warn(\"To exit: use 'exit', 'quit', or Ctrl-D.\", stacklevel=1)\n"
     ]
    }
   ],
   "source": [
    "import click\n",
    "import requests\n",
    "\n",
    "__author__ = \"Oyetoke Toby\"\n",
    "\n",
    "@click.group()\n",
    "def main():\n",
    "    \"\"\"\n",
    "    Simple CLI for querying books on Google Books by Oyetoke Toby\n",
    "    \"\"\"\n",
    "    pass\n",
    "\n",
    "@main.command()\n",
    "@click.argument('query')\n",
    "def search(query):\n",
    "    \"\"\"This search and return results corresponding to the given query from Google Books\"\"\"\n",
    "    url_format = 'https://www.googleapis.com/books/v1/volumes'\n",
    "    query = \"+\".join(query.split())\n",
    "\n",
    "    query_params = {\n",
    "        'q': query\n",
    "    }\n",
    "\n",
    "    response = requests.get(url_format, params=query_params)\n",
    "\n",
    "    click.echo(response.json()['items']) \n",
    "\n",
    "@main.command()\n",
    "@click.argument('id')\n",
    "def get(id):\n",
    "    \"\"\"This return a particular book from the given id on Google Books\"\"\"\n",
    "    url_format = 'https://www.googleapis.com/books/v1/volumes/{}'\n",
    "    click.echo(id)\n",
    "\n",
    "    response = requests.get(url_format.format(id))\n",
    "\n",
    "    click.echo(response.json())\n",
    "\n",
    "\n",
    "if __name__ == \"__main__\":\n",
    "    main()"
   ]
  },
  {
   "cell_type": "code",
   "execution_count": 1,
   "metadata": {},
   "outputs": [
    {
     "name": "stdout",
     "output_type": "stream",
     "text": [
      "Sentiment Classifier\n",
      "Insert English Sentence:\n"
     ]
    },
    {
     "name": "stdin",
     "output_type": "stream",
     "text": [
      " /F\n"
     ]
    },
    {
     "data": {
      "text/html": [],
      "text/plain": [
       "<IPython.core.display.HTML object>"
      ]
     },
     "metadata": {},
     "output_type": "display_data"
    },
    {
     "data": {
      "text/html": [],
      "text/plain": [
       "<IPython.core.display.HTML object>"
      ]
     },
     "metadata": {},
     "output_type": "display_data"
    },
    {
     "name": "stdout",
     "output_type": "stream",
     "text": [
      "Negative sentiment with 58.53% certainty\n"
     ]
    }
   ],
   "source": [
    "from fastai.text import *\n",
    "\n",
    "class SentitmentClassfierApp:\n",
    "    def __init__(self):\n",
    "        self.learner = load_learner(path=\"./\")\n",
    "\n",
    "\n",
    "    # This method predicts the sentiment of the example text:\n",
    "    def get_sentiment(self,txt):\n",
    "        sentiment = self.learner.predict(txt)\n",
    "        if int(sentiment[0]) == 0:\n",
    "            output = f'Negative sentiment with {round(sentiment[2][0].data.tolist()*100,2)}% certainty'\n",
    "        elif int(sentiment[0]) == 1:\n",
    "            output = f'Positive sentiment with {round(sentiment[2][1].data.tolist()*100,2)}% certainty'\n",
    "        else:\n",
    "            output = f'Unclear'\n",
    "\n",
    "        return output\n",
    "\n",
    "\n",
    "print(\"Sentiment Classifier\")\n",
    "print(\"Insert English Sentence:\")\n",
    "input = input()\n",
    "clf = SentitmentClassfierApp()\n",
    "print(clf.get_sentiment(input))"
   ]
  },
  {
   "cell_type": "code",
   "execution_count": 2,
   "metadata": {},
   "outputs": [],
   "source": [
    "import click\n",
    "\n",
    "@click.command()\n",
    "def cli():\n",
    "    click.echo(\"Hello World\")"
   ]
  },
  {
   "cell_type": "code",
   "execution_count": null,
   "metadata": {},
   "outputs": [],
   "source": []
  }
 ],
 "metadata": {
  "kernelspec": {
   "display_name": "Python 3",
   "language": "python",
   "name": "python3"
  },
  "language_info": {
   "codemirror_mode": {
    "name": "ipython",
    "version": 3
   },
   "file_extension": ".py",
   "mimetype": "text/x-python",
   "name": "python",
   "nbconvert_exporter": "python",
   "pygments_lexer": "ipython3",
   "version": "3.7.5"
  }
 },
 "nbformat": 4,
 "nbformat_minor": 4
}
